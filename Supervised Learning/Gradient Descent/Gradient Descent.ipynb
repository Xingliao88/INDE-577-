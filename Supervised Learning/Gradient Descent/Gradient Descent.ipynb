{
 "cells": [
  {
   "cell_type": "markdown",
   "id": "49c54498",
   "metadata": {},
   "source": [
    "# Gradient Descent "
   ]
  },
  {
   "cell_type": "markdown",
   "id": "a2086118",
   "metadata": {},
   "source": [
    "## Working Principle Introduction\n",
    "Gradient descent optimizes a function by iteratively moving towards the minimum value. It begins with random parameter values, calculates the function's gradient, and then adjusts the parameters in the direction that reduces the function most rapidly. This process repeats until the function's minimum value is found or changes become negligible, aiming to find the optimal solution with each step sized by the learning rate.\n",
    "\n",
    "Here is the formula for gradient descent:\n",
    "$$\n",
    "\\theta_{\\text{next step}} = \\theta_{\\text{current step}} - \\alpha \\cdot \\nabla_\\theta J(\\theta)\n",
    "$$\n",
    "<div align=\"center\">\n",
    "<img src=\"Gradientdescent.png\" alt=\"alt text\" width=\"450\"/>\n",
    "</div>\n",
    "The image compares the effects of different learning rates in the gradient descent optimization algorithm. On the left, a \"Big learning rate\" results in large steps that overshoot the minimum of the cost function, potentially diverging or causing oscillation. On the right, a \"Small learning rate\" leads to smaller, more precise steps that gradually converge to the minimum, although it may take longer to do so."
   ]
  },
  {
   "cell_type": "markdown",
   "id": "eef4e031",
   "metadata": {},
   "source": [
    "## Data Processing\n",
    "I loaded the Wine Quality dataset from the UCI Machine Learning Repository and separated the features and target variable, which is the quality of the wine. Then, I split the data into training and testing sets, allocating 20% of the data for testing to validate the model later. Lastly, I standardized the features to have a mean of zero and a standard deviation"
   ]
  },
  {
   "cell_type": "code",
   "execution_count": 27,
   "id": "1ee6e94e",
   "metadata": {},
   "outputs": [],
   "source": [
    "import numpy as np\n",
    "import pandas as pd\n",
    "import matplotlib.pyplot as plt\n",
    "from sklearn.model_selection import train_test_split\n",
    "from sklearn.preprocessing import StandardScaler\n",
    "\n",
    "# Load the dataset\n",
    "url = \"https://archive.ics.uci.edu/ml/machine-learning-databases/wine-quality/winequality-red.csv\"\n",
    "wine_data = pd.read_csv(url, sep=';')\n",
    "X = wine_data.drop('quality', axis=1).values\n",
    "y = wine_data['quality'].values\n",
    "\n",
    "# Split the dataset into training and testing sets\n",
    "X_train, X_test, y_train, y_test = train_test_split(X, y, test_size=0.2, random_state=42)\n",
    "\n",
    "# Standardize the data\n",
    "scaler = StandardScaler()\n",
    "X_train = scaler.fit_transform(X_train)\n",
    "X_test = scaler.transform(X_test)\n",
    "X_train = np.c_[np.ones(X_train.shape[0]), X_train]\n",
    "X_test = np.c_[np.ones(X_test.shape[0]), X_test]   "
   ]
  },
  {
   "cell_type": "markdown",
   "id": "bfdc684a",
   "metadata": {},
   "source": [
    "## Gradient Descent Optimization\n",
    "In this section, I've implemented gradient descent optimization to minimize the Mean Squared Error (MSE) for predicting outcomes based on the Wine dataset. Starting with random initialization of coefficients, the perform_gradient_descent function iteratively adjusts these coefficients by moving in the direction of steepest descent defined by the negative gradient of the MSE. "
   ]
  },
  {
   "cell_type": "code",
   "execution_count": 28,
   "id": "1d4deef4",
   "metadata": {},
   "outputs": [
    {
     "data": {
      "image/png": "[encoded data removed]",
      "text/plain": [
       "<Figure size 640x480 with 1 Axes>"
      ]
     },
     "metadata": {},
     "output_type": "display_data"
    }
   ],
   "source": [
    "# Initialize parameters\n",
    "coefficients = np.random.randn(X_train.shape[1])\n",
    "\n",
    "# Gradient Descent function\n",
    "def perform_gradient_descent(X, y, coefficients, learning_rate, iterations):\n",
    "    sample_size = X.shape[0]\n",
    "    mse_track = []\n",
    "    \n",
    "    for _ in range(iterations):\n",
    "        predictions = np.dot(X, coefficients)\n",
    "        difference = y - predictions\n",
    "        gradient = -2 / sample_size * np.dot(X.T, difference)  # Derivative of MSE\n",
    "        coefficients = coefficients - learning_rate * gradient\n",
    "        mse = np.mean(difference ** 2)\n",
    "        mse_track.append(mse)\n",
    "    return coefficients, mse_track\n",
    "\n",
    "# Perform model training using gradient descent\n",
    "learning_rate = 0.1\n",
    "iterations = 100\n",
    "coefficients, mse_track = perform_gradient_descent(X_train, y_train, coefficients, learning_rate, iterations)\n",
    "\n",
    "# Plot the MSE history\n",
    "plt.plot(range(1, iterations + 1), mse_track)\n",
    "plt.xlabel('Iterations')\n",
    "plt.ylabel('MSE')\n",
    "plt.title('MSE vs Iterations')\n",
    "plt.show()"
   ]
  },
  {
   "cell_type": "markdown",
   "id": "e0560a72",
   "metadata": {},
   "source": [
    "## Model Evaluation\n",
    "Following the gradient descent optimization, I evaluated the model's performance on the test set. Using the optimized coefficients, I computed the predicted values and assessed the accuracy with the Mean Squared Error (MSE). Additionally, I calculated the R-squared (R²) score to quantify the goodness of fit."
   ]
  },
  {
   "cell_type": "code",
   "execution_count": 29,
   "id": "b5f226e1",
   "metadata": {},
   "outputs": [
    {
     "name": "stdout",
     "output_type": "stream",
     "text": [
      "Mean Squared Error: 0.39088063061704237\n",
      "R2 score: 0.4018712686204944\n",
      "Model parameters are [ 5.62392494e+00 -9.77776070e-04 -1.82648173e-01 -2.80219121e-02\n",
      " -4.44622348e-03 -9.04125008e-02  6.01724107e-02 -1.22197283e-01\n",
      "  2.08262083e-02 -8.40777569e-02  1.40657844e-01  3.20301595e-01]\n"
     ]
    }
   ],
   "source": [
    "# Make predictions on the test set using the trained coefficients\n",
    "predicted_values = np.dot(X_test, coefficients)\n",
    "\n",
    "# Calculate the Mean Squared Error on the test set\n",
    "mean_squared_error = np.mean((y_test - predicted_values) ** 2)\n",
    "print(\"Mean Squared Error:\", mean_squared_error)\n",
    "\n",
    "# Calculate the R2 score on the test set\n",
    "r2_score = 1 - np.sum((y_test - predicted_values) ** 2) / np.sum((y_test - np.mean(y_test)) ** 2)\n",
    "print(\"R2 score:\", r2_score)\n",
    "\n",
    "# Output the trained model parameters\n",
    "print(\"Model parameters are\", coefficients)\n",
    "    "
   ]
  },
  {
   "cell_type": "markdown",
   "id": "61f783b5",
   "metadata": {},
   "source": [
    "## Conclusion\n",
    "In conclusion, the gradient descent approach successfully minimized the Mean Squared Error, indicating a satisfactory level of prediction accuracy. The R-squared value suggests that the model explains a good proportion of the variance in the data. The final coefficients provide insight into how each predictor influences the response variable. Overall, the model shows promise for predictive analysis, although there may be potential for further optimization."
   ]
  }
 ],
 "metadata": {
  "kernelspec": {
   "display_name": "Python 3 (ipykernel)",
   "language": "python",
   "name": "python3"
  },
  "language_info": {
   "codemirror_mode": {
    "name": "ipython",
    "version": 3
   },
   "file_extension": ".py",
   "mimetype": "text/x-python",
   "name": "python",
   "nbconvert_exporter": "python",
   "pygments_lexer": "ipython3",
   "version": "3.11.4"
  }
 },
 "nbformat": 4,
 "nbformat_minor": 5
}
