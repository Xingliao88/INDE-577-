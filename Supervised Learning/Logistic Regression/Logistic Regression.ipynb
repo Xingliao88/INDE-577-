{
 "cells": [
  {
   "cell_type": "markdown",
   "id": "490b119a",
   "metadata": {},
   "source": [
    "# Logistic Regression\n",
    "## Working Principle Introduction\n",
    "\n",
    "Logistic regression estimates the probability of a binary outcome based on one or more predictor variables. It works by applying a logistic function to model the probability that a given input point belongs to a certain class, which outputs values between 0 and 1. This is useful for classification tasks where the outcome is categorical, such as spam detection or disease diagnosis. Unlike linear regression, logistic regression can handle situations where the relationship between the predictors and the probability of the outcome is not linear.\n",
    "\n",
    "The logistic regression model is expressed as follows:\n",
    "\n",
    "$$\n",
    "P(Y=1) = \\frac{1}{1 + e^{-(\\beta_0 + \\beta_1X_1 + \\beta_2X_2 + ... + \\beta_nX_n)}}\n",
    "$$\n",
    "\n",
    "Where:\n",
    "- $P(Y=1)$ is the probability that the dependent variable $Y$ equals 1, given the predictors.\n",
    "- $e$ is the base of the natural logarithm.\n",
    "- $\\beta_0$ is the intercept term of the model.\n",
    "- $\\beta_1, \\beta_2, ..., \\beta_n$ are the coefficients for each predictor variable $X_1, X_2, ..., X_n$.\n",
    "\n",
    "<div align=\"center\">\n",
    "<img src=\"Logistic.png\" alt=\"alt text\" width=\"450\"/>\n",
    "</div>\n",
    "\n",
    "This image illustrates a logistic regression curve. The horizontal axis represents the independent variable X, and the vertical axis represents the dependent variable Y, which takes on a value between 0 and 1. The S-shaped curve (sigmoid function) shows the probability of \n",
    "Y being 1 as X increases. The dotted lines indicate that the predicted values of Y are constrained within the 0 to 1 range, characteristic of logistic regression used for binary classification."
   ]
  },
  {
   "cell_type": "markdown",
   "id": "1955a5d3",
   "metadata": {},
   "source": [
    "# Data Processing\n",
    "I utilized the Breast Cancer Dataset to perform logistic regression. Initially, I processed the dataset by standardizing it, identifying the dependent variable, selecting the independent variables, and then splitting the dataset into training and testing sets.\n"
   ]
  },
  {
   "cell_type": "code",
   "execution_count": 15,
   "id": "e76e191e",
   "metadata": {},
   "outputs": [],
   "source": [
    "# Importing necessary libraries\n",
    "import numpy as np\n",
    "import pandas as pd\n",
    "import matplotlib.pyplot as plt\n",
    "from sklearn.datasets import load_breast_cancer\n",
    "from sklearn.model_selection import train_test_split\n",
    "from sklearn.preprocessing import StandardScaler"
   ]
  },
  {
   "cell_type": "code",
   "execution_count": 16,
   "id": "90d84a85",
   "metadata": {},
   "outputs": [],
   "source": [
    "# Load breast cancer dataset\n",
    "data = load_breast_cancer()\n",
    "X = data.data\n",
    "y = data.target\n"
   ]
  },
  {
   "cell_type": "code",
   "execution_count": 17,
   "id": "33d922d6",
   "metadata": {},
   "outputs": [],
   "source": [
    "# Data preprocessing: Standardization\n",
    "scaler = StandardScaler()\n",
    "X_scaled = scaler.fit_transform(X)"
   ]
  },
  {
   "cell_type": "code",
   "execution_count": 18,
   "id": "d9289976",
   "metadata": {},
   "outputs": [],
   "source": [
    "# Splitting the dataset into training and testing sets\n",
    "X_train, X_test, y_train, y_test = train_test_split(X_scaled, y, test_size=0.3, random_state=42)"
   ]
  },
  {
   "cell_type": "markdown",
   "id": "8244e87b",
   "metadata": {},
   "source": [
    "# Logistic Function Built\n",
    "I have developed several functions to facilitate logistic regression analysis. For example, the sigmoid function computes the logistic function essential for the binary classification. The loss_function calculates the cost of a given set of weights, which is crucial for evaluating the performance of the model. "
   ]
  },
  {
   "cell_type": "code",
   "execution_count": 19,
   "id": "479391c4",
   "metadata": {},
   "outputs": [],
   "source": [
    "\n",
    "import numpy as np\n",
    "\n",
    "def sigmoid(X, weight):\n",
    "    #Calculate the sigmoid of the given input.\n",
    "    z = np.dot(X, weight)\n",
    "    return 1 / (1 + np.exp(-z))\n",
    "\n",
    "def loss_function(X, y, weights):\n",
    "    #Compute the loss function for logistic regression.\n",
    "    h = sigmoid(X, weights)\n",
    "    m = len(y)\n",
    "    loss = -np.mean(y * np.log(h) + (1 - y) * np.log(1 - h))\n",
    "    return loss\n",
    "\n",
    "def gradient_descent(X, h, y):\n",
    "    #Calculate the gradient descent for logistic regression.\n",
    "    m = len(y)\n",
    "    gradient = np.dot(X.T, (h - y)) / m\n",
    "    return gradient\n",
    "\n",
    "def update_weight_loss(weight, learning_rate, gradient):\n",
    "    #Update weights using the calculated gradient.\n",
    "    return weight - learning_rate * gradient\n",
    "\n",
    "class LogisticRegression:\n",
    "    def __init__(self, lr=0.05, epochs=25):\n",
    "        self.lr = lr\n",
    "        self.epochs = epochs\n",
    "        self.weights = None\n",
    "        self.loss = []\n",
    "\n",
    "    def fit(self, X, y):        \n",
    "        self.weights = np.zeros(X.shape[1])\n",
    "                 \n",
    "        for _ in range(self.epochs):        \n",
    "            # Gradient Descent\n",
    "            y_hat = sigmoid(X, self.weights)\n",
    "            gradient = gradient_descent(X, y_hat, y)\n",
    "            self.weights = update_weight_loss(self.weights, self.lr, gradient)\n",
    "            # Saving Progress\n",
    "            self.loss.append(loss_function(X, y, self.weights)) \n",
    "    \n",
    "    def predict(self, X):        \n",
    "        #Predict binary labels for the given input data.\n",
    "        z = sigmoid(X, self.weights)\n",
    "        # Returning binary result\n",
    "        return [1 if i > 0.5 else 0 for i in z]"
   ]
  },
  {
   "cell_type": "markdown",
   "id": "28cf8faf",
   "metadata": {},
   "source": [
    "# Model Training and Evaluation\n",
    "I trained my logistic regression model on the training set and then used it to make predictions on the test set. I compared the predicted labels with the actual labels to gauge the model's performance. To quantify its accuracy, I calculated how often the model's predictions matched the true outcomes, and the accuracy score was printed out along with the predictions and true labels."
   ]
  },
  {
   "cell_type": "code",
   "execution_count": 20,
   "id": "74e2eaba",
   "metadata": {},
   "outputs": [],
   "source": [
    "# Training the custom logistic regression model\n",
    "model = LogisticRegression()\n",
    "model.fit(X_train, y_train)"
   ]
  },
  {
   "cell_type": "code",
   "execution_count": 21,
   "id": "44912e8f",
   "metadata": {},
   "outputs": [
    {
     "name": "stdout",
     "output_type": "stream",
     "text": [
      "Predicted labels: [1, 0, 0, 1, 1, 0, 0, 0, 0, 1, 1, 0, 1, 0, 1, 0, 1, 1, 1, 0, 1, 1, 0, 1, 1, 1, 1, 1, 1, 0, 1, 1, 1, 1, 1, 1, 0, 1, 0, 1, 1, 0, 1, 1, 1, 1, 1, 1, 1, 1, 0, 0, 0, 1, 1, 1, 1, 0, 0, 1, 1, 0, 0, 1, 1, 1, 0, 0, 1, 1, 0, 0, 1, 0, 1, 1, 1, 0, 1, 1, 0, 1, 0, 0, 0, 0, 0, 0, 1, 1, 1, 1, 1, 1, 1, 1, 0, 0, 1, 0, 0, 1, 0, 0, 1, 1, 1, 0, 1, 1, 0, 1, 1, 0, 0, 0, 1, 1, 1, 0, 0, 1, 1, 0, 1, 0, 0, 1, 1, 0, 0, 0, 1, 1, 1, 0, 1, 1, 0, 0, 1, 0, 1, 1, 0, 1, 0, 0, 0, 1, 0, 1, 1, 1, 1, 0, 0, 1, 1, 1, 1, 1, 1, 1, 0, 1, 1, 1, 1, 0, 1]\n",
      "Actual labels: [1, 0, 0, 1, 1, 0, 0, 0, 1, 1, 1, 0, 1, 0, 1, 0, 1, 1, 1, 0, 0, 1, 0, 1, 1, 1, 1, 1, 1, 0, 1, 1, 1, 1, 1, 1, 0, 1, 0, 1, 1, 0, 1, 1, 1, 1, 1, 1, 1, 1, 0, 0, 1, 1, 1, 1, 1, 0, 0, 1, 1, 0, 0, 1, 1, 1, 0, 0, 1, 1, 0, 0, 1, 0, 1, 1, 1, 0, 1, 1, 0, 1, 0, 0, 0, 0, 0, 0, 1, 1, 1, 1, 1, 1, 1, 1, 0, 0, 1, 0, 0, 1, 0, 0, 1, 1, 1, 0, 1, 1, 0, 1, 1, 0, 1, 0, 1, 1, 1, 0, 1, 1, 1, 0, 1, 0, 0, 1, 1, 0, 0, 0, 1, 1, 1, 0, 1, 1, 1, 0, 1, 0, 1, 1, 0, 1, 0, 0, 0, 1, 0, 1, 1, 1, 1, 0, 0, 1, 1, 1, 1, 1, 1, 1, 0, 1, 1, 1, 1, 0, 1]\n"
     ]
    }
   ],
   "source": [
    "# Predictions and model evaluation\n",
    "y_pred = model.predict(X_test)\n",
    "print('Predicted labels:', y_pred)\n",
    "print('Actual labels:', y_test.tolist())"
   ]
  },
  {
   "cell_type": "code",
   "execution_count": 23,
   "id": "e95390af",
   "metadata": {},
   "outputs": [
    {
     "name": "stdout",
     "output_type": "stream",
     "text": [
      "Accuracy: 0.9649122807017544\n"
     ]
    }
   ],
   "source": [
    "# Calculating accuracy\n",
    "from sklearn.metrics import accuracy_score, confusion_matrix\n",
    "import seaborn as sns\n",
    "\n",
    "accuracy = accuracy_score(y_test, y_pred)\n",
    "print('Accuracy:', accuracy)"
   ]
  },
  {
   "cell_type": "markdown",
   "id": "ecbb6817",
   "metadata": {},
   "source": [
    "# Performance Visualization\n",
    "I plotted the loss over the epochs, which shows how the model's error decreased as it learned. Then, I created a confusion matrix to visualize the model's predictions against the actual values, giving a clear picture of its performance."
   ]
  },
  {
   "cell_type": "code",
   "execution_count": 22,
   "id": "3088d86c",
   "metadata": {},
   "outputs": [
    {
     "data": {
      "image/png": "[encoded data removed]",
      "text/plain": [
       "<Figure size 640x480 with 1 Axes>"
      ]
     },
     "metadata": {},
     "output_type": "display_data"
    }
   ],
   "source": [
    "# Plotting the loss over epochs\n",
    "plt.plot(model.loss)\n",
    "plt.title('Model Loss Over Epochs')\n",
    "plt.xlabel('Epochs')\n",
    "plt.ylabel('Loss')\n",
    "plt.show()"
   ]
  },
  {
   "cell_type": "code",
   "execution_count": 24,
   "id": "1b4ee118",
   "metadata": {},
   "outputs": [
    {
     "data": {
      "image/png": "[encoded data removed]",
      "text/plain": [
       "<Figure size 800x600 with 2 Axes>"
      ]
     },
     "metadata": {},
     "output_type": "display_data"
    }
   ],
   "source": [
    "# Plotting Confusion Matrix\n",
    "conf_mat = confusion_matrix(y_test, y_pred)\n",
    "plt.figure(figsize=(8, 6))\n",
    "sns.heatmap(conf_mat, annot=True, fmt='d', cmap='Blues')\n",
    "plt.ylabel('Actual Label')\n",
    "plt.xlabel('Predicted Label')\n",
    "plt.title('Confusion Matrix')\n",
    "plt.show()"
   ]
  },
  {
   "cell_type": "markdown",
   "id": "808ae34c",
   "metadata": {},
   "source": [
    "# Conclusion\n",
    "Based on the Breast Cancer dataset, I've achieved a high accuracy of 0.96 with my logistic regression model. The model loss plot indicates a strong downward trend, reflecting significant learning during training. The confusion matrix shows an impressive number of true positive and true negative predictions, with very few misclassifications, demonstrating the model's robust predictive capability."
   ]
  }
 ],
 "metadata": {
  "kernelspec": {
   "display_name": "Python 3 (ipykernel)",
   "language": "python",
   "name": "python3"
  },
  "language_info": {
   "codemirror_mode": {
    "name": "ipython",
    "version": 3
   },
   "file_extension": ".py",
   "mimetype": "text/x-python",
   "name": "python",
   "nbconvert_exporter": "python",
   "pygments_lexer": "ipython3",
   "version": "3.11.4"
  }
 },
 "nbformat": 4,
 "nbformat_minor": 5
}
